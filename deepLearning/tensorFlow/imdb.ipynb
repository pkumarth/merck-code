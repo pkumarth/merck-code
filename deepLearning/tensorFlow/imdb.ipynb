{
 "cells": [
  {
   "cell_type": "code",
   "execution_count": 1,
   "metadata": {},
   "outputs": [
    {
     "name": "stdout",
     "output_type": "stream",
     "text": [
      "1.13.1\n"
     ]
    }
   ],
   "source": [
    "from __future__ import absolute_import, division, print_function\n",
    "\n",
    "import tensorflow as tf\n",
    "from tensorflow import keras\n",
    "\n",
    "import numpy as np\n",
    "\n",
    "print(tf.__version__)"
   ]
  },
  {
   "cell_type": "code",
   "execution_count": 2,
   "metadata": {},
   "outputs": [
    {
     "name": "stdout",
     "output_type": "stream",
     "text": [
      "Downloading data from https://storage.googleapis.com/tensorflow/tf-keras-datasets/imdb.npz\n",
      "17465344/17464789 [==============================] - 6s 0us/step\n"
     ]
    }
   ],
   "source": [
    "imdb = keras.datasets.imdb\n",
    "(train_data,train_labels),(test_data,test_labels) = imdb.load_data(num_words=10000)"
   ]
  },
  {
   "cell_type": "code",
   "execution_count": 3,
   "metadata": {},
   "outputs": [
    {
     "name": "stdout",
     "output_type": "stream",
     "text": [
      "Training entries : 25000 , labels: 25000 \n"
     ]
    }
   ],
   "source": [
    "print(\"Training entries : {} , labels: {} \".format(len(train_data),len(train_labels)))"
   ]
  },
  {
   "cell_type": "code",
   "execution_count": 4,
   "metadata": {},
   "outputs": [
    {
     "name": "stdout",
     "output_type": "stream",
     "text": [
      "[1, 14, 22, 16, 43, 530, 973, 1622, 1385, 65, 458, 4468, 66, 3941, 4, 173, 36, 256, 5, 25, 100, 43, 838, 112, 50, 670, 2, 9, 35, 480, 284, 5, 150, 4, 172, 112, 167, 2, 336, 385, 39, 4, 172, 4536, 1111, 17, 546, 38, 13, 447, 4, 192, 50, 16, 6, 147, 2025, 19, 14, 22, 4, 1920, 4613, 469, 4, 22, 71, 87, 12, 16, 43, 530, 38, 76, 15, 13, 1247, 4, 22, 17, 515, 17, 12, 16, 626, 18, 2, 5, 62, 386, 12, 8, 316, 8, 106, 5, 4, 2223, 5244, 16, 480, 66, 3785, 33, 4, 130, 12, 16, 38, 619, 5, 25, 124, 51, 36, 135, 48, 25, 1415, 33, 6, 22, 12, 215, 28, 77, 52, 5, 14, 407, 16, 82, 2, 8, 4, 107, 117, 5952, 15, 256, 4, 2, 7, 3766, 5, 723, 36, 71, 43, 530, 476, 26, 400, 317, 46, 7, 4, 2, 1029, 13, 104, 88, 4, 381, 15, 297, 98, 32, 2071, 56, 26, 141, 6, 194, 7486, 18, 4, 226, 22, 21, 134, 476, 26, 480, 5, 144, 30, 5535, 18, 51, 36, 28, 224, 92, 25, 104, 4, 226, 65, 16, 38, 1334, 88, 12, 16, 283, 5, 16, 4472, 113, 103, 32, 15, 16, 5345, 19, 178, 32]\n"
     ]
    }
   ],
   "source": [
    "print(train_data[0])"
   ]
  },
  {
   "cell_type": "code",
   "execution_count": 7,
   "metadata": {},
   "outputs": [
    {
     "data": {
      "text/plain": [
       "(218, 189)"
      ]
     },
     "execution_count": 7,
     "metadata": {},
     "output_type": "execute_result"
    }
   ],
   "source": [
    "len(train_data[0]),len(train_data[1])"
   ]
  },
  {
   "cell_type": "code",
   "execution_count": 10,
   "metadata": {},
   "outputs": [],
   "source": [
    "# A dictionary mapping words to an integer index\n",
    "word_index = imdb.get_word_index()\n",
    "\n",
    "# The first indices are reserved\n",
    "word_index = {k:(v+3) for k,v in word_index.items()} \n",
    "word_index[\"<PAD>\"] = 0\n",
    "word_index[\"<START>\"] = 1\n",
    "word_index[\"<UNK>\"] = 2  # unknown\n",
    "word_index[\"<UNUSED>\"] = 3\n",
    "\n",
    "reverse_word_index = dict([(value, key) for (key, value) in word_index.items()])\n",
    "\n",
    "def decode_review(text):\n",
    "    return ' '.join([reverse_word_index.get(i, '?') for i in text])"
   ]
  },
  {
   "cell_type": "code",
   "execution_count": 11,
   "metadata": {},
   "outputs": [
    {
     "data": {
      "text/plain": [
       "\"<START> this film was just brilliant casting location scenery story direction everyone's really suited the part they played and you could just imagine being there robert <UNK> is an amazing actor and now the same being director <UNK> father came from the same scottish island as myself so i loved the fact there was a real connection with this film the witty remarks throughout the film were great it was just brilliant so much that i bought the film as soon as it was released for <UNK> and would recommend it to everyone to watch and the fly fishing was amazing really cried at the end it was so sad and you know what they say if you cry at a film it must have been good and this definitely was also <UNK> to the two little boy's that played the <UNK> of norman and paul they were just brilliant children are often left out of the <UNK> list i think because the stars that play them all grown up are such a big profile for the whole film but these children are amazing and should be praised for what they have done don't you think the whole story was so lovely because it was true and was someone's life after all that was shared with us all\""
      ]
     },
     "execution_count": 11,
     "metadata": {},
     "output_type": "execute_result"
    }
   ],
   "source": [
    "decode_review(train_data[0])"
   ]
  },
  {
   "cell_type": "markdown",
   "metadata": {},
   "source": [
    "## Prepare the data"
   ]
  },
  {
   "cell_type": "code",
   "execution_count": 13,
   "metadata": {},
   "outputs": [],
   "source": [
    "train_data = keras.preprocessing.sequence.pad_sequences(train_data,\n",
    "                                                        value=word_index[\"<PAD>\"],\n",
    "                                                        padding='post',\n",
    "                                                        maxlen=256)\n",
    "\n",
    "test_data = keras.preprocessing.sequence.pad_sequences(test_data,\n",
    "                                                       value=word_index[\"<PAD>\"],\n",
    "                                                       padding='post',\n",
    "                                                       maxlen=256)"
   ]
  },
  {
   "cell_type": "code",
   "execution_count": 14,
   "metadata": {},
   "outputs": [
    {
     "data": {
      "text/plain": [
       "(256, 256)"
      ]
     },
     "execution_count": 14,
     "metadata": {},
     "output_type": "execute_result"
    }
   ],
   "source": [
    "len(train_data[0]), len(train_data[1])"
   ]
  },
  {
   "cell_type": "code",
   "execution_count": 15,
   "metadata": {},
   "outputs": [
    {
     "name": "stdout",
     "output_type": "stream",
     "text": [
      "[   1   14   22   16   43  530  973 1622 1385   65  458 4468   66 3941\n",
      "    4  173   36  256    5   25  100   43  838  112   50  670    2    9\n",
      "   35  480  284    5  150    4  172  112  167    2  336  385   39    4\n",
      "  172 4536 1111   17  546   38   13  447    4  192   50   16    6  147\n",
      " 2025   19   14   22    4 1920 4613  469    4   22   71   87   12   16\n",
      "   43  530   38   76   15   13 1247    4   22   17  515   17   12   16\n",
      "  626   18    2    5   62  386   12    8  316    8  106    5    4 2223\n",
      " 5244   16  480   66 3785   33    4  130   12   16   38  619    5   25\n",
      "  124   51   36  135   48   25 1415   33    6   22   12  215   28   77\n",
      "   52    5   14  407   16   82    2    8    4  107  117 5952   15  256\n",
      "    4    2    7 3766    5  723   36   71   43  530  476   26  400  317\n",
      "   46    7    4    2 1029   13  104   88    4  381   15  297   98   32\n",
      " 2071   56   26  141    6  194 7486   18    4  226   22   21  134  476\n",
      "   26  480    5  144   30 5535   18   51   36   28  224   92   25  104\n",
      "    4  226   65   16   38 1334   88   12   16  283    5   16 4472  113\n",
      "  103   32   15   16 5345   19  178   32    0    0    0    0    0    0\n",
      "    0    0    0    0    0    0    0    0    0    0    0    0    0    0\n",
      "    0    0    0    0    0    0    0    0    0    0    0    0    0    0\n",
      "    0    0    0    0]\n"
     ]
    }
   ],
   "source": [
    "print(train_data[0])"
   ]
  },
  {
   "cell_type": "markdown",
   "metadata": {},
   "source": [
    "## Build the model\n"
   ]
  },
  {
   "cell_type": "code",
   "execution_count": 16,
   "metadata": {},
   "outputs": [],
   "source": [
    "# input shape is the vocabulary count used for the movie reviews (10,000 words)\n",
    "vocab_size = 10000"
   ]
  },
  {
   "cell_type": "code",
   "execution_count": 18,
   "metadata": {},
   "outputs": [
    {
     "name": "stdout",
     "output_type": "stream",
     "text": [
      "_________________________________________________________________\n",
      "Layer (type)                 Output Shape              Param #   \n",
      "=================================================================\n",
      "embedding_1 (Embedding)      (None, None, 16)          160000    \n",
      "_________________________________________________________________\n",
      "global_average_pooling1d_1 ( (None, 16)                0         \n",
      "_________________________________________________________________\n",
      "dense (Dense)                (None, 16)                272       \n",
      "_________________________________________________________________\n",
      "dense_1 (Dense)              (None, 1)                 17        \n",
      "=================================================================\n",
      "Total params: 160,289\n",
      "Trainable params: 160,289\n",
      "Non-trainable params: 0\n",
      "_________________________________________________________________\n"
     ]
    }
   ],
   "source": [
    "model=keras.Sequential()\n",
    "model.add(keras.layers.Embedding(vocab_size,16))\n",
    "model.add(keras.layers.GlobalAveragePooling1D())\n",
    "model.add(keras.layers.Dense(16,activation=tf.nn.relu))\n",
    "model.add(keras.layers.Dense(1,activation=tf.nn.sigmoid))\n",
    "\n",
    "model.summary()"
   ]
  },
  {
   "cell_type": "code",
   "execution_count": 21,
   "metadata": {},
   "outputs": [],
   "source": [
    "model.compile(optimizer='adam',\n",
    "              loss='binary_crossentropy',\n",
    "              metrics=['acc'])"
   ]
  },
  {
   "cell_type": "markdown",
   "metadata": {},
   "source": [
    "## Create a validation set\n"
   ]
  },
  {
   "cell_type": "code",
   "execution_count": 22,
   "metadata": {},
   "outputs": [],
   "source": [
    "x_val = train_data[:10000]\n",
    "partial_x_train = train_data[10000:]\n",
    "\n",
    "y_val = train_labels[:10000]\n",
    "partial_y_train = train_labels[10000:]"
   ]
  },
  {
   "cell_type": "markdown",
   "metadata": {},
   "source": [
    "## Train the model"
   ]
  },
  {
   "cell_type": "code",
   "execution_count": 23,
   "metadata": {},
   "outputs": [
    {
     "name": "stdout",
     "output_type": "stream",
     "text": [
      "Train on 15000 samples, validate on 10000 samples\n",
      "WARNING:tensorflow:From /Users/pthakur/anaconda3/lib/python3.6/site-packages/tensorflow/python/ops/math_ops.py:3066: to_int32 (from tensorflow.python.ops.math_ops) is deprecated and will be removed in a future version.\n",
      "Instructions for updating:\n",
      "Use tf.cast instead.\n",
      "Epoch 1/40\n",
      "15000/15000 [==============================] - 1s 37us/sample - loss: 0.6917 - acc: 0.5316 - val_loss: 0.6897 - val_acc: 0.5382\n",
      "Epoch 2/40\n",
      "15000/15000 [==============================] - 0s 19us/sample - loss: 0.6847 - acc: 0.6497 - val_loss: 0.6795 - val_acc: 0.6844\n",
      "Epoch 3/40\n",
      "15000/15000 [==============================] - 0s 20us/sample - loss: 0.6686 - acc: 0.7193 - val_loss: 0.6594 - val_acc: 0.7357\n",
      "Epoch 4/40\n",
      "15000/15000 [==============================] - 0s 21us/sample - loss: 0.6407 - acc: 0.7497 - val_loss: 0.6279 - val_acc: 0.7646\n",
      "Epoch 5/40\n",
      "15000/15000 [==============================] - 0s 23us/sample - loss: 0.6008 - acc: 0.7877 - val_loss: 0.5871 - val_acc: 0.7896\n",
      "Epoch 6/40\n",
      "15000/15000 [==============================] - 0s 19us/sample - loss: 0.5521 - acc: 0.8158 - val_loss: 0.5415 - val_acc: 0.8066\n",
      "Epoch 7/40\n",
      "15000/15000 [==============================] - 0s 22us/sample - loss: 0.5001 - acc: 0.8343 - val_loss: 0.4938 - val_acc: 0.8280\n",
      "Epoch 8/40\n",
      "15000/15000 [==============================] - 0s 20us/sample - loss: 0.4505 - acc: 0.8548 - val_loss: 0.4522 - val_acc: 0.8410\n",
      "Epoch 9/40\n",
      "15000/15000 [==============================] - 0s 25us/sample - loss: 0.4065 - acc: 0.8688 - val_loss: 0.4167 - val_acc: 0.8504\n",
      "Epoch 10/40\n",
      "15000/15000 [==============================] - 0s 20us/sample - loss: 0.3690 - acc: 0.8804 - val_loss: 0.3888 - val_acc: 0.8546\n",
      "Epoch 11/40\n",
      "15000/15000 [==============================] - 0s 20us/sample - loss: 0.3382 - acc: 0.8879 - val_loss: 0.3664 - val_acc: 0.8629\n",
      "Epoch 12/40\n",
      "15000/15000 [==============================] - 0s 20us/sample - loss: 0.3127 - acc: 0.8951 - val_loss: 0.3495 - val_acc: 0.8668\n",
      "Epoch 13/40\n",
      "15000/15000 [==============================] - 0s 22us/sample - loss: 0.2917 - acc: 0.9007 - val_loss: 0.3350 - val_acc: 0.8713\n",
      "Epoch 14/40\n",
      "15000/15000 [==============================] - 0s 20us/sample - loss: 0.2729 - acc: 0.9069 - val_loss: 0.3244 - val_acc: 0.8755\n",
      "Epoch 15/40\n",
      "15000/15000 [==============================] - 0s 21us/sample - loss: 0.2570 - acc: 0.9120 - val_loss: 0.3156 - val_acc: 0.8765\n",
      "Epoch 16/40\n",
      "15000/15000 [==============================] - 0s 19us/sample - loss: 0.2427 - acc: 0.9168 - val_loss: 0.3085 - val_acc: 0.8771\n",
      "Epoch 17/40\n",
      "15000/15000 [==============================] - 0s 21us/sample - loss: 0.2294 - acc: 0.9214 - val_loss: 0.3027 - val_acc: 0.8803\n",
      "Epoch 18/40\n",
      "15000/15000 [==============================] - 0s 20us/sample - loss: 0.2176 - acc: 0.9252 - val_loss: 0.2982 - val_acc: 0.8827\n",
      "Epoch 19/40\n",
      "15000/15000 [==============================] - 0s 19us/sample - loss: 0.2069 - acc: 0.9277 - val_loss: 0.2940 - val_acc: 0.8833\n",
      "Epoch 20/40\n",
      "15000/15000 [==============================] - 0s 22us/sample - loss: 0.1973 - acc: 0.9327 - val_loss: 0.2915 - val_acc: 0.8840\n",
      "Epoch 21/40\n",
      "15000/15000 [==============================] - 0s 22us/sample - loss: 0.1873 - acc: 0.9380 - val_loss: 0.2892 - val_acc: 0.8844\n",
      "Epoch 22/40\n",
      "15000/15000 [==============================] - 0s 22us/sample - loss: 0.1790 - acc: 0.9414 - val_loss: 0.2876 - val_acc: 0.8846\n",
      "Epoch 23/40\n",
      "15000/15000 [==============================] - 0s 20us/sample - loss: 0.1707 - acc: 0.9453 - val_loss: 0.2876 - val_acc: 0.8830\n",
      "Epoch 24/40\n",
      "15000/15000 [==============================] - 0s 21us/sample - loss: 0.1635 - acc: 0.9475 - val_loss: 0.2867 - val_acc: 0.8846\n",
      "Epoch 25/40\n",
      "15000/15000 [==============================] - 0s 21us/sample - loss: 0.1561 - acc: 0.9513 - val_loss: 0.2861 - val_acc: 0.8861\n",
      "Epoch 26/40\n",
      "15000/15000 [==============================] - 0s 23us/sample - loss: 0.1495 - acc: 0.9533 - val_loss: 0.2874 - val_acc: 0.8844\n",
      "Epoch 27/40\n",
      "15000/15000 [==============================] - 0s 22us/sample - loss: 0.1433 - acc: 0.9563 - val_loss: 0.2875 - val_acc: 0.8851\n",
      "Epoch 28/40\n",
      "15000/15000 [==============================] - 0s 25us/sample - loss: 0.1373 - acc: 0.9585 - val_loss: 0.2890 - val_acc: 0.8853\n",
      "Epoch 29/40\n",
      "15000/15000 [==============================] - 0s 20us/sample - loss: 0.1320 - acc: 0.9613 - val_loss: 0.2912 - val_acc: 0.8840\n",
      "Epoch 30/40\n",
      "15000/15000 [==============================] - 0s 23us/sample - loss: 0.1264 - acc: 0.9631 - val_loss: 0.2913 - val_acc: 0.8853\n",
      "Epoch 31/40\n",
      "15000/15000 [==============================] - 0s 22us/sample - loss: 0.1208 - acc: 0.9658 - val_loss: 0.2930 - val_acc: 0.8853\n",
      "Epoch 32/40\n",
      "15000/15000 [==============================] - 0s 23us/sample - loss: 0.1158 - acc: 0.9687 - val_loss: 0.2952 - val_acc: 0.8849\n",
      "Epoch 33/40\n",
      "15000/15000 [==============================] - 0s 21us/sample - loss: 0.1111 - acc: 0.9695 - val_loss: 0.2982 - val_acc: 0.8838\n",
      "Epoch 34/40\n",
      "15000/15000 [==============================] - 0s 23us/sample - loss: 0.1067 - acc: 0.9706 - val_loss: 0.3012 - val_acc: 0.8849\n",
      "Epoch 35/40\n",
      "15000/15000 [==============================] - 0s 21us/sample - loss: 0.1025 - acc: 0.9719 - val_loss: 0.3046 - val_acc: 0.8838\n",
      "Epoch 36/40\n",
      "15000/15000 [==============================] - 0s 23us/sample - loss: 0.0983 - acc: 0.9737 - val_loss: 0.3067 - val_acc: 0.8831\n",
      "Epoch 37/40\n",
      "15000/15000 [==============================] - 0s 22us/sample - loss: 0.0941 - acc: 0.9752 - val_loss: 0.3100 - val_acc: 0.8831\n",
      "Epoch 38/40\n",
      "15000/15000 [==============================] - 0s 23us/sample - loss: 0.0903 - acc: 0.9769 - val_loss: 0.3144 - val_acc: 0.8816\n",
      "Epoch 39/40\n",
      "15000/15000 [==============================] - 0s 21us/sample - loss: 0.0872 - acc: 0.9781 - val_loss: 0.3191 - val_acc: 0.8806\n",
      "Epoch 40/40\n",
      "15000/15000 [==============================] - 0s 23us/sample - loss: 0.0831 - acc: 0.9796 - val_loss: 0.3225 - val_acc: 0.8809\n"
     ]
    }
   ],
   "source": [
    "history = model.fit(partial_x_train,\n",
    "                    partial_y_train,\n",
    "                    epochs=40,\n",
    "                    batch_size=512,\n",
    "                    validation_data=(x_val, y_val),\n",
    "                    verbose=1)"
   ]
  },
  {
   "cell_type": "markdown",
   "metadata": {},
   "source": [
    "## Evaluate the model"
   ]
  },
  {
   "cell_type": "code",
   "execution_count": 24,
   "metadata": {},
   "outputs": [
    {
     "name": "stdout",
     "output_type": "stream",
     "text": [
      "25000/25000 [==============================] - 0s 17us/sample - loss: 0.3448 - acc: 0.8691\n",
      "[0.3447595872163773, 0.86912]\n"
     ]
    }
   ],
   "source": [
    "results = model.evaluate(test_data, test_labels)\n",
    "\n",
    "print(results)"
   ]
  },
  {
   "cell_type": "markdown",
   "metadata": {},
   "source": [
    "## Create a graph of accuracy and loss over time"
   ]
  },
  {
   "cell_type": "code",
   "execution_count": 25,
   "metadata": {},
   "outputs": [
    {
     "data": {
      "text/plain": [
       "dict_keys(['loss', 'acc', 'val_loss', 'val_acc'])"
      ]
     },
     "execution_count": 25,
     "metadata": {},
     "output_type": "execute_result"
    }
   ],
   "source": [
    "history_dict = history.history\n",
    "history_dict.keys()"
   ]
  },
  {
   "cell_type": "code",
   "execution_count": 26,
   "metadata": {},
   "outputs": [
    {
     "data": {
      "text/plain": [
       "<Figure size 640x480 with 1 Axes>"
      ]
     },
     "metadata": {},
     "output_type": "display_data"
    }
   ],
   "source": [
    "import matplotlib.pyplot as plt\n",
    "\n",
    "acc = history_dict['acc']\n",
    "val_acc = history_dict['val_acc']\n",
    "loss = history_dict['loss']\n",
    "val_loss = history_dict['val_loss']\n",
    "\n",
    "epochs = range(1, len(acc) + 1)\n",
    "\n",
    "# \"bo\" is for \"blue dot\"\n",
    "plt.plot(epochs, loss, 'bo', label='Training loss')\n",
    "# b is for \"solid blue line\"\n",
    "plt.plot(epochs, val_loss, 'b', label='Validation loss')\n",
    "plt.title('Training and validation loss')\n",
    "plt.xlabel('Epochs')\n",
    "plt.ylabel('Loss')\n",
    "plt.legend()\n",
    "\n",
    "plt.show()"
   ]
  },
  {
   "cell_type": "code",
   "execution_count": 27,
   "metadata": {},
   "outputs": [
    {
     "data": {
      "image/png": "[encoded data removed]",
      "text/plain": [
       "<Figure size 432x288 with 1 Axes>"
      ]
     },
     "metadata": {},
     "output_type": "display_data"
    }
   ],
   "source": [
    "plt.clf()   # clear figure\n",
    "\n",
    "plt.plot(epochs, acc, 'bo', label='Training acc')\n",
    "plt.plot(epochs, val_acc, 'b', label='Validation acc')\n",
    "plt.title('Training and validation accuracy')\n",
    "plt.xlabel('Epochs')\n",
    "plt.ylabel('Accuracy')\n",
    "plt.legend()\n",
    "\n",
    "plt.show()"
   ]
  },
  {
   "cell_type": "code",
   "execution_count": null,
   "metadata": {},
   "outputs": [],
   "source": []
  }
 ],
 "metadata": {
  "kernelspec": {
   "display_name": "Python 3",
   "language": "python",
   "name": "python3"
  },
  "language_info": {
   "codemirror_mode": {
    "name": "ipython",
    "version": 3
   },
   "file_extension": ".py",
   "mimetype": "text/x-python",
   "name": "python",
   "nbconvert_exporter": "python",
   "pygments_lexer": "ipython3",
   "version": "3.6.5"
  }
 },
 "nbformat": 4,
 "nbformat_minor": 2
}
